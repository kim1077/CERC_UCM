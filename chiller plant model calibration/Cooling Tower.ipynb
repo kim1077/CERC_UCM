{
 "cells": [
  {
   "cell_type": "code",
   "execution_count": 1,
   "metadata": {},
   "outputs": [],
   "source": [
    "# %load C:\\Users\\Walter\\Desktop\\tools\\template\\plot_template.py\n",
    "\n",
    "import pandas as pd\n",
    "import matplotlib.pyplot as plt\n",
    "import numpy as np\n",
    "import seaborn as sns\n",
    "from scipy import stats\n",
    "import metpy.calc as mpcalc         # for wet-bulb temperature calculation\n",
    "from metpy.units import units       # for wet-bulb temperature calculation\n",
    "\n",
    "from sklearn.linear_model import LinearRegression\n",
    "\n",
    "plt.rc('font', family='serif')\n",
    "plt.rc('axes', labelsize=16)\n",
    "plt.rc('xtick', labelsize=14, color='grey')\n",
    "plt.rc('ytick', labelsize=14, color='grey')\n",
    "plt.rc('legend', fontsize=16, loc='lower left')\n",
    "plt.rc('savefig', dpi=330, bbox='tight')\n",
    "%matplotlib inline\n"
   ]
  },
  {
   "cell_type": "markdown",
   "metadata": {},
   "source": [
    "## Define utility functions\n",
    "#### Read data function"
   ]
  },
  {
   "cell_type": "code",
   "execution_count": 169,
   "metadata": {},
   "outputs": [],
   "source": [
    "def readData(filename):   # resample 15min\n",
    "    df = pd.read_csv('data/'+filename+'.csv', index_col=0)\n",
    "    if 'Excel Time' in df.columns:\n",
    "        df.drop('Excel Time',axis=1,inplace=True)\n",
    "    df.index = pd.to_datetime(df.index)\n",
    "    df = df.resample('15min').mean()\n",
    "    return df"
   ]
  },
  {
   "cell_type": "markdown",
   "metadata": {},
   "source": [
    "#### Data quality check"
   ]
  },
  {
   "cell_type": "code",
   "execution_count": 5,
   "metadata": {},
   "outputs": [],
   "source": [
    "def power_freq_cubed_check(data):\n",
    "    flag_on = (data['Power, kW']>0)&(data['Actual Hz']>0)\n",
    "    data_on = data[flag_on]\n",
    "    x = data_on['Power, kW']/(data_on['Actual Hz']**3)\n",
    "    x_outlierFree = x[(np.abs(stats.zscore(x)) < 0.5)]\n",
    "    outlier_ratio = 1-len(x_outlierFree)/len(x)\n",
    "    std = x_outlierFree.std()/x_outlierFree.mean()\n",
    "    sns.distplot(x_outlierFree/x_outlierFree.mean(),bins=30)\n",
    "    print(' removed outliers: {} \\n std/mean: {}'.format(outlier_ratio,std))"
   ]
  },
  {
   "cell_type": "markdown",
   "metadata": {},
   "source": [
    "## Calculate the wet-bulb temperature"
   ]
  },
  {
   "cell_type": "code",
   "execution_count": 94,
   "metadata": {},
   "outputs": [
    {
     "name": "stderr",
     "output_type": "stream",
     "text": [
      "C:\\Users\\Walter\\Anaconda3\\lib\\site-packages\\dateutil\\parser\\_parser.py:1206: UnknownTimezoneWarning: tzname PDT identified but not understood.  Pass `tzinfos` argument in order to correctly return a timezone-aware datetime.  In a future version, this will raise an exception.\n",
      "  category=UnknownTimezoneWarning)\n",
      "C:\\Users\\Walter\\Anaconda3\\lib\\site-packages\\dateutil\\parser\\_parser.py:1206: UnknownTimezoneWarning: tzname PST identified but not understood.  Pass `tzinfos` argument in order to correctly return a timezone-aware datetime.  In a future version, this will raise an exception.\n",
      "  category=UnknownTimezoneWarning)\n"
     ]
    },
    {
     "data": {
      "text/html": [
       "<div>\n",
       "<style scoped>\n",
       "    .dataframe tbody tr th:only-of-type {\n",
       "        vertical-align: middle;\n",
       "    }\n",
       "\n",
       "    .dataframe tbody tr th {\n",
       "        vertical-align: top;\n",
       "    }\n",
       "\n",
       "    .dataframe thead th {\n",
       "        text-align: right;\n",
       "    }\n",
       "</style>\n",
       "<table border=\"1\" class=\"dataframe\">\n",
       "  <thead>\n",
       "    <tr style=\"text-align: right;\">\n",
       "      <th></th>\n",
       "      <th>dew point</th>\n",
       "      <th>humidity</th>\n",
       "      <th>temperature</th>\n",
       "    </tr>\n",
       "    <tr>\n",
       "      <th>Date</th>\n",
       "      <th></th>\n",
       "      <th></th>\n",
       "      <th></th>\n",
       "    </tr>\n",
       "  </thead>\n",
       "  <tbody>\n",
       "    <tr>\n",
       "      <th>2018-07-01 00:00:00</th>\n",
       "      <td>60.0</td>\n",
       "      <td>53.0</td>\n",
       "      <td>79.0</td>\n",
       "    </tr>\n",
       "    <tr>\n",
       "      <th>2018-07-01 00:15:00</th>\n",
       "      <td>60.0</td>\n",
       "      <td>53.0</td>\n",
       "      <td>79.0</td>\n",
       "    </tr>\n",
       "    <tr>\n",
       "      <th>2018-07-01 00:30:00</th>\n",
       "      <td>60.0</td>\n",
       "      <td>60.0</td>\n",
       "      <td>75.0</td>\n",
       "    </tr>\n",
       "    <tr>\n",
       "      <th>2018-07-01 00:45:00</th>\n",
       "      <td>59.0</td>\n",
       "      <td>56.0</td>\n",
       "      <td>76.0</td>\n",
       "    </tr>\n",
       "    <tr>\n",
       "      <th>2018-07-01 01:00:00</th>\n",
       "      <td>59.0</td>\n",
       "      <td>57.0</td>\n",
       "      <td>75.0</td>\n",
       "    </tr>\n",
       "  </tbody>\n",
       "</table>\n",
       "</div>"
      ],
      "text/plain": [
       "                     dew point  humidity  temperature\n",
       "Date                                                 \n",
       "2018-07-01 00:00:00       60.0      53.0         79.0\n",
       "2018-07-01 00:15:00       60.0      53.0         79.0\n",
       "2018-07-01 00:30:00       60.0      60.0         75.0\n",
       "2018-07-01 00:45:00       59.0      56.0         76.0\n",
       "2018-07-01 01:00:00       59.0      57.0         75.0"
      ]
     },
     "execution_count": 94,
     "metadata": {},
     "output_type": "execute_result"
    }
   ],
   "source": [
    "weather = readData('weather').dropna()\n",
    "\n",
    "wb_temp_list = []\n",
    "for i in range(weather.shape[0]):\n",
    "    wb_temp = mpcalc.wet_bulb_temperature(1000* units.mbar,  # pressure is needed for wet-bulb temp calculation\n",
    "                                          weather.iloc[0,2].tolist()* units.degF, \n",
    "                                          weather.iloc[0,1].tolist()* units.degF)\n",
    "    wb_temp_list.append(float(str(round(wb_temp,2)).split(\" \")[0]))\n",
    "\n",
    "weather['wb_temp degC'] = wb_temp_list\n",
    "weather.to_csv('data/weather.csv')\n",
    "\n",
    "weather.head()"
   ]
  },
  {
   "cell_type": "markdown",
   "metadata": {},
   "source": [
    "## Prepare the data"
   ]
  },
  {
   "cell_type": "code",
   "execution_count": 243,
   "metadata": {},
   "outputs": [],
   "source": [
    "def prepare_data(CT_name, threshold=0.3):\n",
    "    '''\n",
    "    input \n",
    "    CT_name: string\n",
    "    threshold: power_to_fan_speed_ratio should be close to 1, using this criteria to filter out bad data\n",
    "               After the filtering, the power_to_fan_speed_ratio should be in the range [1-threshold,1+threshold] \n",
    "    '''\n",
    "    CT1 = readData(CT_name)\n",
    "    weather = readData('weather')\n",
    "    cond_fr = readData('CT_water flow')\n",
    "    \n",
    "    # clean flow rate data\n",
    "    def clean_flowRate(data):\n",
    "        for field in data.columns:\n",
    "            data.loc[data[field]<200,field]=0\n",
    "        return data\n",
    "\n",
    "    cond_fr_clean = clean_flowRate(cond_fr)\n",
    "    \n",
    "    data = pd.concat([CT1, weather, cond_fr_clean], axis=1).dropna()\n",
    "    # extract data when CT is on, which is considered as the fan speed is above 10 HZ\n",
    "    data_on = data[data['Actual Hz']>10]\n",
    "    \n",
    "    power_fanSpeed_cub_ratio = data_on['Power, kW']/(data_on['Actual Hz']**3)\n",
    "\n",
    "    flag_bad_data = (np.abs(stats.zscore(power_fanSpeed_cub_ratio)) > threshold)\n",
    "    print('filtering out {} data points according to the power_to_fanSpeed ratio criterion'.format(sum(flag_bad_data)/data_on.shape[0]))\n",
    "    data_on = data_on[~ flag_bad_data]                                                              # element wise not should use ~ rather than not\n",
    "        \n",
    "    data_clean = pd.DataFrame()\n",
    "    data_clean['water_outlet'] = (data_on['CW Lvg Temp']-32)*5/9\n",
    "    data_clean['water_inlet'] = (data_on['CW Etg Temp']-32)*5/9\n",
    "    data_clean['Twb'] = data_on['wb_temp degC']\n",
    "    \n",
    "    # FRwater\n",
    "    ## Assumption: the condenser water are distributed equally between different CT\n",
    "    cond_totalFlowRate = data_on.loc[:,['CH-1 CW Flow','CH-2 CW Flow','CH-3 CW Flow','CH-4 CHW Flow','CH-5 CHW Flow']].sum(axis=1)\n",
    "    norFlowRate = cond_totalFlowRate.quantile(.99)\n",
    "    data_clean['FRwater'] = cond_totalFlowRate.div(norFlowRate)\n",
    "    \n",
    "    data_clean['FRair'] = data_on['Actual Hz']/60  ## assumption: proportion to the fan speed\n",
    "    \n",
    "    return data_clean"
   ]
  },
  {
   "cell_type": "markdown",
   "metadata": {},
   "source": [
    "## Regression model\n",
    "Reference: Energyplus Engineering Reference Page 990"
   ]
  },
  {
   "cell_type": "code",
   "execution_count": 204,
   "metadata": {},
   "outputs": [],
   "source": [
    "def CT_coolTools(data):\n",
    "    # model reference: E+ Engineering Reference Page 990\n",
    "    approach = data['water_outlet']-data['Twb']\n",
    "    Tr = data['water_inlet']-data['water_outlet']\n",
    "    df_op = pd.DataFrame()\n",
    "    df_op['FRair'] = data['FRair']\n",
    "    df_op['FRair_sq'] = data['FRair']**2\n",
    "    df_op['FRair_tri'] = data['FRair']**3\n",
    "    df_op['FRwater'] = data['FRwater']\n",
    "    df_op['FRair*FRwater'] = data['FRair']*data['FRwater']\n",
    "    df_op['FRair_sq*FRwater'] = (data['FRair']**2)*data['FRwater']\n",
    "    df_op['FRwater_sq'] = data['FRwater']**2\n",
    "    df_op['FRair*FRwater_sq'] = data['FRair']*(data['FRwater']**2)\n",
    "    df_op['FRwater_tri'] = data['FRwater']**3\n",
    "    df_op['Twb'] = data['Twb']\n",
    "    df_op['FRair*Twb'] = data['FRair']*data['Twb']\n",
    "    df_op['FRair_sq*Twb'] = (data['FRair']**2)*data['Twb']\n",
    "    df_op['FRwater*Twb'] = data['FRwater']*data['Twb']\n",
    "    df_op['FRair*FRwater*Twb'] = data['FRair']*data['FRwater']*data['Twb']\n",
    "    df_op['FRwater_sq*Twb'] = (data['FRwater']**2)*data['Twb']\n",
    "    df_op['Twb_sq'] = data['Twb']**2\n",
    "    df_op['FRair*Twb_sq'] = data['FRair']*(data['Twb']**2)\n",
    "    df_op['FRwater*Twb_sq'] = data['FRwater']*(data['Twb']**2)\n",
    "    df_op['Twb_tri'] = data['Twb']**3\n",
    "    df_op['Tr'] = Tr\n",
    "    df_op['FRair*Tr'] = data['FRair']*Tr\n",
    "    df_op['FRair_sq*Tr'] = (data['FRair']**2)*Tr\n",
    "    df_op['FRwater*Tr'] = data['FRwater']*Tr\n",
    "    df_op['FRair*FRwater*Tr'] = data['FRair']*data['FRwater']*Tr\n",
    "    df_op['FRwater_sq*Tr'] = (data['FRwater']**2)*Tr\n",
    "    df_op['Twb*Tr'] = data['Twb']*Tr\n",
    "    df_op['FRair*Twb*Tr'] = data['FRair']*data['Twb']*Tr\n",
    "    df_op['FRwater*Twb*Tr'] = data['FRwater']*data['Twb']*Tr\n",
    "    df_op['Twb_sq*Tr'] = (data['Twb']**2)*Tr\n",
    "    df_op['Tr_sq'] = Tr**2\n",
    "    df_op['FRair*Tr_sq'] = data['FRair']*(Tr**2)\n",
    "    df_op['FRwater*Tr_sq'] = data['FRwater']*(Tr**2)\n",
    "    df_op['Twb*Tr_sq'] = data['Twb']*(Tr**2)\n",
    "    df_op['Tr_tri'] = Tr**3\n",
    "    y = approach.values\n",
    "    x = df_op.values\n",
    "    model = LinearRegression()\n",
    "    model.fit(x,y)\n",
    "    r_sq = model.score(x, y)\n",
    "    print('coefficient of determination:', r_sq)\n",
    "    result = {'intercept':model.intercept_}\n",
    "    for i in range(df_op.shape[1]):\n",
    "        result[df_op.columns[i]] = model.coef_[i]\n",
    "    result['r_sq'] = r_sq\n",
    "    return result    "
   ]
  },
  {
   "cell_type": "code",
   "execution_count": 206,
   "metadata": {},
   "outputs": [],
   "source": [
    "def CT_YorkCalc(data):\n",
    "    # model reference: E+ Engineering Reference Page 990\n",
    "    approach = data['water_outlet']-data['Twb']\n",
    "    Tr = data['water_inlet']-data['water_outlet']\n",
    "    LGratio = data['FRwater']/data['FRair']\n",
    "    df_op = pd.DataFrame()\n",
    "    df_op['Twb'] = data['Twb']\n",
    "    df_op['Twb_sq'] = data['Twb']**2\n",
    "    df_op['Tr'] = Tr\n",
    "    df_op['Twb*Tr'] = data['Twb']*Tr\n",
    "    df_op['Twb_sq*Tr'] = (data['Twb']**2)*Tr\n",
    "    df_op['Tr_sq'] = Tr**2\n",
    "    df_op['Twb*Tr_sq'] = data['Twb']*(Tr**2)\n",
    "    df_op['Twb_sq*Tr_sq'] = (data['Twb']**2)*(Tr**2)\n",
    "    df_op['LGratio'] = LGratio\n",
    "    df_op['Twb*LGratio'] = data['Twb']*LGratio\n",
    "    df_op['Twb_sq*LGratio'] = (data['Twb']**2)*LGratio\n",
    "    df_op['Tr*LGratio'] = Tr*LGratio\n",
    "    df_op['Twb*Tr*LGratio'] = data['Twb']*Tr*LGratio\n",
    "    df_op['Twb_sq*Tr*LGratio'] = (data['Twb']**2)*Tr*LGratio\n",
    "    df_op['Tr_sq*LGratio'] = (Tr**2)*LGratio\n",
    "    df_op['Twb*Tr_sq*LGratio'] = data['Twb']*(Tr**2)*LGratio\n",
    "    df_op['Twb_sq*Tr_sq*LGratio'] = (data['Twb']**2)*(Tr**2)*LGratio\n",
    "    df_op['LGratio_sq'] = LGratio**2\n",
    "    df_op['Twb*LGratio_sq'] = data['Twb']*(LGratio**2)\n",
    "    df_op['Twb_sq*LGratio_sq'] = (data['Twb']**2)*(LGratio**2)\n",
    "    df_op['Tr*LGratio_sq'] = Tr*(LGratio**2)\n",
    "    df_op['Twb*Tr*LGratio_sq'] = data['Twb']*Tr*(LGratio**2)\n",
    "    df_op['Tr_sq*LGratio_sq'] = (Tr**2)*(LGratio**2)\n",
    "    df_op['Twb*Tr_sq*LGratio_sq'] = data['Twb']*(Tr**2)*(LGratio**2)\n",
    "    df_op['Twb_sq*Tr_sq*LGratio_sq'] = (data['Twb']**2)*(Tr**2)*(LGratio**2)\n",
    "\n",
    "    y = approach.values\n",
    "    x = df_op.values\n",
    "    model = LinearRegression()\n",
    "    model.fit(x,y)\n",
    "    r_sq = model.score(x, y)\n",
    "    print('coefficient of determination:', r_sq)\n",
    "    result = {'intercept':model.intercept_}\n",
    "    for i in range(df_op.shape[1]):\n",
    "        result[df_op.columns[i]] = model.coef_[i]\n",
    "    result['r_sq'] = r_sq\n",
    "    return result    "
   ]
  },
  {
   "cell_type": "markdown",
   "metadata": {},
   "source": [
    "## Regression and saving results"
   ]
  },
  {
   "cell_type": "code",
   "execution_count": 246,
   "metadata": {},
   "outputs": [
    {
     "name": "stderr",
     "output_type": "stream",
     "text": [
      "C:\\Users\\Walter\\Anaconda3\\lib\\site-packages\\dateutil\\parser\\_parser.py:1206: UnknownTimezoneWarning: tzname PDT identified but not understood.  Pass `tzinfos` argument in order to correctly return a timezone-aware datetime.  In a future version, this will raise an exception.\n",
      "  category=UnknownTimezoneWarning)\n",
      "C:\\Users\\Walter\\Anaconda3\\lib\\site-packages\\dateutil\\parser\\_parser.py:1206: UnknownTimezoneWarning: tzname PST identified but not understood.  Pass `tzinfos` argument in order to correctly return a timezone-aware datetime.  In a future version, this will raise an exception.\n",
      "  category=UnknownTimezoneWarning)\n"
     ]
    },
    {
     "name": "stdout",
     "output_type": "stream",
     "text": [
      "filtering out 0.10580912863070539 data points according to the power_to_fanSpeed ratio criterion\n",
      "coefficient of determination: 0.4405215080220876\n",
      "coefficient of determination: 0.233547455107047\n",
      "filtering out 0.10812320459623365 data points according to the power_to_fanSpeed ratio criterion\n",
      "coefficient of determination: 0.4140993567631669\n",
      "coefficient of determination: 0.20205109004927746\n",
      "filtering out 0.1176793156393946 data points according to the power_to_fanSpeed ratio criterion\n",
      "coefficient of determination: 0.5642093061195463\n",
      "coefficient of determination: 0.3952249542113356\n",
      "filtering out 0.10640166028097063 data points according to the power_to_fanSpeed ratio criterion\n",
      "coefficient of determination: 0.424611061061224\n",
      "coefficient of determination: 0.22008440993296674\n",
      "filtering out 0.11022364217252396 data points according to the power_to_fanSpeed ratio criterion\n",
      "coefficient of determination: 0.42083359633865103\n",
      "coefficient of determination: 0.20362407606367583\n",
      "filtering out 0.8208354302969301 data points according to the power_to_fanSpeed ratio criterion\n",
      "coefficient of determination: 0.6925800928689289\n",
      "coefficient of determination: 0.4785157184228595\n",
      "filtering out 0.5314597315436241 data points according to the power_to_fanSpeed ratio criterion\n",
      "coefficient of determination: 0.6033521471273511\n",
      "coefficient of determination: 0.4670206623729962\n",
      "filtering out 0.2221942627075994 data points according to the power_to_fanSpeed ratio criterion\n",
      "coefficient of determination: 0.5327954682693651\n",
      "coefficient of determination: 0.3550298422395872\n",
      "filtering out 0.6417647058823529 data points according to the power_to_fanSpeed ratio criterion\n",
      "coefficient of determination: 0.5458862590147961\n",
      "coefficient of determination: 0.31367138667856975\n"
     ]
    }
   ],
   "source": [
    "coefficient_df_coolTools = pd.DataFrame()\n",
    "coefficient_df_YorkCalc = pd.DataFrame()\n",
    "for i in range(1,10):\n",
    "    data = prepare_data('CT'+str(i))\n",
    "    coefficient_coolTools = CT_coolTools(data)\n",
    "    coefficient_YorkCalc = CT_YorkCalc(data)\n",
    "    df_coolTools = pd.DataFrame(coefficient_coolTools, index=[i])\n",
    "    df_YorkCalc = pd.DataFrame(coefficient_YorkCalc, index=[i])\n",
    "    coefficient_df_coolTools = pd.concat([coefficient_df_coolTools,df_coolTools])\n",
    "    coefficient_df_YorkCalc = pd.concat([coefficient_df_YorkCalc,df_YorkCalc])"
   ]
  },
  {
   "cell_type": "code",
   "execution_count": 252,
   "metadata": {},
   "outputs": [],
   "source": [
    "coefficient_df_coolTools.T.to_csv('coolingTower_coolTools.csv')\n",
    "coefficient_df_YorkCalc.T.to_csv('coolingTower_YorkCalc.csv')"
   ]
  },
  {
   "cell_type": "code",
   "execution_count": null,
   "metadata": {},
   "outputs": [],
   "source": []
  },
  {
   "cell_type": "code",
   "execution_count": null,
   "metadata": {},
   "outputs": [],
   "source": []
  },
  {
   "cell_type": "code",
   "execution_count": null,
   "metadata": {},
   "outputs": [],
   "source": []
  },
  {
   "cell_type": "code",
   "execution_count": null,
   "metadata": {},
   "outputs": [],
   "source": []
  },
  {
   "cell_type": "code",
   "execution_count": null,
   "metadata": {},
   "outputs": [],
   "source": []
  }
 ],
 "metadata": {
  "kernelspec": {
   "display_name": "Python 3",
   "language": "python",
   "name": "python3"
  },
  "language_info": {
   "codemirror_mode": {
    "name": "ipython",
    "version": 3
   },
   "file_extension": ".py",
   "mimetype": "text/x-python",
   "name": "python",
   "nbconvert_exporter": "python",
   "pygments_lexer": "ipython3",
   "version": "3.6.5"
  }
 },
 "nbformat": 4,
 "nbformat_minor": 2
}
