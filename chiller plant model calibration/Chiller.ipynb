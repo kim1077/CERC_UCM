{
 "cells": [
  {
   "cell_type": "code",
   "execution_count": 2,
   "metadata": {},
   "outputs": [],
   "source": [
    "# %load C:\\Users\\Walter\\Desktop\\tools\\template\\plot_template.py\n",
    "\n",
    "import pandas as pd\n",
    "import matplotlib.pyplot as plt\n",
    "import numpy as np\n",
    "import seaborn as sns\n",
    "\n",
    "plt.rc('font', family='serif')\n",
    "plt.rc('axes', labelsize=16)\n",
    "plt.rc('xtick', labelsize=14, color='grey')\n",
    "plt.rc('ytick', labelsize=14, color='grey')\n",
    "plt.rc('legend', fontsize=16, loc='lower left')\n",
    "plt.rc('savefig', dpi=330, bbox='tight')\n",
    "%matplotlib inline\n",
    "\n",
    "\n",
    "from sklearn.linear_model import LinearRegression"
   ]
  },
  {
   "cell_type": "markdown",
   "metadata": {},
   "source": [
    "## Define utility functions\n",
    "#### Read data"
   ]
  },
  {
   "cell_type": "code",
   "execution_count": 38,
   "metadata": {},
   "outputs": [],
   "source": [
    "def read_chiller_data(filename):\n",
    "    file = 'data/' + filename + '.csv'\n",
    "    data = pd.read_csv(file,index_col=0)\n",
    "    if 'Excel Time' in df.columns:\n",
    "        df.drop('Excel Time',axis=1,inplace=True)\n",
    "    data.index = pd.to_datetime(data.index)\n",
    "    data.rename(columns={'chwr':'cw_e','chws':'cw_l','CW Flow':'cond_f',\n",
    "                         'CWR Temp':'cond_l','CWS Temp':'cond_e','Load':'load','MOTOR KW':'power'},inplace=True)\n",
    "    return data"
   ]
  },
  {
   "cell_type": "markdown",
   "metadata": {},
   "source": [
    "#### Data quality check"
   ]
  },
  {
   "cell_type": "code",
   "execution_count": null,
   "metadata": {},
   "outputs": [],
   "source": [
    "def load_error_distribution(data, savefig=False, filename='test'):\n",
    "    df = data[data['on']]\n",
    "    df['heat_rejection'] = df['cond_f']*(df['cond_l']-df['cond_e'])*4200\n",
    "    df['error'] = df['heat_rejection']/(df['load']+df['power'])-1\n",
    "    # plot\n",
    "    plt.figure(figsize=(7,5))\n",
    "    plt.hist(df['error'],bins=[i/10 for i in range(-6,7)],color='skyblue', label='reference model')\n",
    "    plt.legend(loc='center left', bbox_to_anchor=(1, 0.5))\n",
    "    plt.xlabel('Heat imbalance rate')\n",
    "    plt.xlim(-0.6,0.6)\n",
    "    plt.ylabel('Number of measurements')\n",
    "    if savefig:\n",
    "        plt.savefig('fig/'+test+'.png')\n",
    "    return None"
   ]
  },
  {
   "cell_type": "markdown",
   "metadata": {},
   "source": [
    "## Prepare the data for regression"
   ]
  },
  {
   "cell_type": "code",
   "execution_count": 13,
   "metadata": {},
   "outputs": [],
   "source": [
    "def IP_to_SI(data):\n",
    "    df = data.copy()   # !important, to avoid contaminating the raw data\n",
    "    # convert degF to degC\n",
    "    for field in ['cw_e','cw_l','cond_e','cond_l']:\n",
    "        df[field] = (df[field]-32)*5/9\n",
    "    # convert RT (Refrigeration Tons) to kW\n",
    "    df['load'] = df['load']*3.517\n",
    "    # convert gpm to m3/s\n",
    "    df['cond_f'] = df['cond_f']*6.31*10**(-5)\n",
    "    return df\n",
    "\n",
    "def prepare_data(chiller_name,threshold=0.2):\n",
    "    '''\n",
    "    input \n",
    "    chiller_name: string\n",
    "    threshold: heat rejected to the CT should be equal to the sum of cooling load and cooling power, using this criteria to filter out bad data\n",
    "               After the filtering, the load_balance should be in the range [-threshold,threshold] \n",
    "    '''\n",
    "    data_IP = read_chiller_data(chiller_name)\n",
    "    \n",
    "    # convert the unit from IP to SI\n",
    "    data_SI = IP_to_SI(data_IP)\n",
    "    # select the data point when the chiller is on\n",
    "    data_SI_on = data_SI[data_SI.power>100]\n",
    "    # filter out data with large heat balance error\n",
    "    data_SI_on['heat_rejection'] = data_SI_on['cond_f']*(data_SI_on['cond_l']-data_SI_on['cond_e'])*4200\n",
    "    data_SI_on['error'] = data_SI_on['heat_rejection']/(data_SI_on['load']+data_SI_on['power'])-1\n",
    "    flag_bad_data = (np.abs(data_SI_on['error']) > threshold)\n",
    "    print('filtering out {} data points according to the heat balance criterion'.format(sum(flag_bad_data)/data_SI_on.shape[0]))\n",
    "    data_SI_on = data_SI_on[~ flag_bad_data]  \n",
    "    \n",
    "    return data_SI_on"
   ]
  },
  {
   "cell_type": "markdown",
   "metadata": {},
   "source": [
    "## Define the regression function\n",
    "\n",
    "Reference: DOE chiller model, E+ engineering reference Page 767"
   ]
  },
  {
   "cell_type": "code",
   "execution_count": 24,
   "metadata": {},
   "outputs": [],
   "source": [
    "def chillerCapFTemp(data):\n",
    "    df_op = data.loc[:,['cw_l','cond_e','load']].dropna()\n",
    "    df_op['cw_l_sq'] = df_op['cw_l']**2\n",
    "    df_op['cond_e_sq'] = df_op['cond_e']**2\n",
    "    df_op['cw_l*cond_e'] = df_op['cw_l']*df_op['cond_e']\n",
    "    y = df_op.pop('load').values\n",
    "    x = df_op.values\n",
    "    model = LinearRegression()\n",
    "    model.fit(x,y)\n",
    "    r_sq = model.score(x, y)\n",
    "    print('coefficient of determination:', r_sq)\n",
    "    result = {'intercept':model.intercept_}\n",
    "    for i in range(df_op.shape[1]):\n",
    "        result[df_op.columns[i]] = model.coef_[i]\n",
    "    result['r_sq'] = r_sq\n",
    "    return result"
   ]
  },
  {
   "cell_type": "code",
   "execution_count": 25,
   "metadata": {},
   "outputs": [],
   "source": [
    "def chillerEIRFTemp(data):\n",
    "    df_op = data.loc[:,['cw_l','cond_e','load','power']].dropna()\n",
    "    df_op['cw_l_sq'] = df_op['cw_l']**2\n",
    "    df_op['cond_e_sq'] = df_op['cond_e']**2\n",
    "    df_op['cw_l*cond_e'] = df_op['cw_l']*df_op['cond_e']\n",
    "    y = df_op.pop('power')/df_op.pop('load').values         # power to load, inverse of COP\n",
    "    x = df_op.values\n",
    "    model = LinearRegression()\n",
    "    model.fit(x,y)\n",
    "    r_sq = model.score(x, y)\n",
    "    print('coefficient of determination:', r_sq)\n",
    "    result = {'intercept':model.intercept_}\n",
    "    for i in range(df_op.shape[1]):\n",
    "        result[df_op.columns[i]] = model.coef_[i]\n",
    "    result['r_sq'] = r_sq\n",
    "    return result"
   ]
  },
  {
   "cell_type": "markdown",
   "metadata": {},
   "source": [
    "## Regression and saving results"
   ]
  },
  {
   "cell_type": "code",
   "execution_count": 68,
   "metadata": {},
   "outputs": [
    {
     "name": "stderr",
     "output_type": "stream",
     "text": [
      "C:\\Users\\Walter\\Anaconda3\\lib\\site-packages\\dateutil\\parser\\_parser.py:1206: UnknownTimezoneWarning: tzname PDT identified but not understood.  Pass `tzinfos` argument in order to correctly return a timezone-aware datetime.  In a future version, this will raise an exception.\n",
      "  category=UnknownTimezoneWarning)\n",
      "C:\\Users\\Walter\\Anaconda3\\lib\\site-packages\\dateutil\\parser\\_parser.py:1206: UnknownTimezoneWarning: tzname PST identified but not understood.  Pass `tzinfos` argument in order to correctly return a timezone-aware datetime.  In a future version, this will raise an exception.\n",
      "  category=UnknownTimezoneWarning)\n",
      "C:\\Users\\Walter\\Anaconda3\\lib\\site-packages\\ipykernel_launcher.py:26: SettingWithCopyWarning: \n",
      "A value is trying to be set on a copy of a slice from a DataFrame.\n",
      "Try using .loc[row_indexer,col_indexer] = value instead\n",
      "\n",
      "See the caveats in the documentation: http://pandas.pydata.org/pandas-docs/stable/indexing.html#indexing-view-versus-copy\n",
      "C:\\Users\\Walter\\Anaconda3\\lib\\site-packages\\ipykernel_launcher.py:27: SettingWithCopyWarning: \n",
      "A value is trying to be set on a copy of a slice from a DataFrame.\n",
      "Try using .loc[row_indexer,col_indexer] = value instead\n",
      "\n",
      "See the caveats in the documentation: http://pandas.pydata.org/pandas-docs/stable/indexing.html#indexing-view-versus-copy\n"
     ]
    },
    {
     "name": "stdout",
     "output_type": "stream",
     "text": [
      "filtering out 0.0819081908190819 data points according to the heat balance criterion\n",
      "coefficient of determination: 0.707549786411378\n",
      "filtering out 0.12754898040783685 data points according to the heat balance criterion\n",
      "coefficient of determination: 0.30696888866731875\n",
      "filtering out 0.2685355957211361 data points according to the heat balance criterion\n",
      "coefficient of determination: 0.5092301052046538\n",
      "filtering out 0.6574665541762083 data points according to the heat balance criterion\n",
      "coefficient of determination: 0.7695376300581731\n",
      "filtering out 0.02848465807938004 data points according to the heat balance criterion\n",
      "coefficient of determination: 0.8771563270207381\n"
     ]
    }
   ],
   "source": [
    "coefficient_df_cap = pd.DataFrame()\n",
    "coefficient_df_EIR = pd.DataFrame()\n",
    "for i in range(1,6):\n",
    "    data = prepare_data('chi'+str(i))\n",
    "    ## regress on the cooling capacity\n",
    "    coefficient_CapFTemp = chillerCapFTemp(data)\n",
    "    df_cap = pd.DataFrame(coefficient_CapFTemp, index=[i])\n",
    "    coefficient_df_cap = pd.concat([coefficient_df_cap,df_cap])\n",
    "    ## regress on the EIR (cooling efficiency)\n",
    "    coefficient_EIR = chillerEIRFTemp(data)\n",
    "    df_EIR = pd.DataFrame(coefficient_EIR, index=[i])\n",
    "    coefficient_df_EIR = pd.concat([coefficient_df_EIR,df_EIR])"
   ]
  },
  {
   "cell_type": "code",
   "execution_count": 64,
   "metadata": {},
   "outputs": [],
   "source": [
    "coefficient_df_cap.T.to_csv('chillerCap.csv')"
   ]
  },
  {
   "cell_type": "code",
   "execution_count": null,
   "metadata": {},
   "outputs": [],
   "source": [
    "coefficient_df_EIR.T.to_csv('chillerEIR.csv')"
   ]
  },
  {
   "cell_type": "code",
   "execution_count": null,
   "metadata": {},
   "outputs": [],
   "source": []
  },
  {
   "cell_type": "code",
   "execution_count": null,
   "metadata": {},
   "outputs": [],
   "source": []
  },
  {
   "cell_type": "code",
   "execution_count": null,
   "metadata": {},
   "outputs": [],
   "source": []
  }
 ],
 "metadata": {
  "kernelspec": {
   "display_name": "Python 3",
   "language": "python",
   "name": "python3"
  },
  "language_info": {
   "codemirror_mode": {
    "name": "ipython",
    "version": 3
   },
   "file_extension": ".py",
   "mimetype": "text/x-python",
   "name": "python",
   "nbconvert_exporter": "python",
   "pygments_lexer": "ipython3",
   "version": "3.6.5"
  }
 },
 "nbformat": 4,
 "nbformat_minor": 2
}
