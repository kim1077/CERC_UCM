{
 "cells": [
  {
   "cell_type": "code",
   "execution_count": 4,
   "metadata": {},
   "outputs": [],
   "source": [
    "import sys\n",
    "try:\n",
    "    sys.path.remove('/home/adun6414/JModelica/v2_0/JModelica/Python')\n",
    "    sys.path.append('/home/adun6414/Downloads/PyFMI') # !!!!\n",
    "except:\n",
    "    \n",
    "    print(sys.path)\n",
    "    \n",
    "import pyfmi\n",
    "from pandas import *\n",
    "from H_utility import *\n",
    "import numpy as np\n",
    "from numpy import *\n",
    "import matplotlib.pyplot as mp\n",
    "import time\n",
    "from scipy.linalg import block_diag\n",
    "import scipy as sp\n",
    "from H_blkdiag import H_blkdiag\n",
    "import PnP_subfunc\n",
    "from PnP_subfunc import H_vec\n",
    "import scipy as sp\n",
    "import scipy.interpolate\n",
    "import control.matlab as ctool\n",
    "from H_simobj import H_simobj\n",
    "import os\n",
    "\n",
    "with open('output.log','w') as f:\n",
    "    sys.stdout=f\n",
    "    print('test')\n",
    "    sys.stdout=sys.__stdout__"
   ]
  },
  {
   "cell_type": "code",
   "execution_count": 2,
   "metadata": {
    "scrolled": true
   },
   "outputs": [],
   "source": [
    "currentdir='/home/adun6414/Work/CERC_UCM'\n",
    "os.chdir(currentdir)\n",
    "\n",
    "\n",
    "# configuration\n",
    "dt=60*60; # 60 min sampling time\n",
    "start_time=H_date2simtime(to_datetime('2018-08-01 00:00'),'2018')\n",
    "final_time=H_date2simtime(to_datetime('2018-08-01 23:45'),'2018')\n",
    "simtimes=arange(start_time,final_time,dt)\n",
    "simtimedate=date_range(start=H_simtime2date(start_time,'2018'),end=H_simtime2date(final_time,'2018'),freq=str(int(dt*1./60))+'T')\n",
    "\n",
    "key_x='H_par_x0'\n",
    "x0_val=0.6; # initial state of charge\n",
    "# inputs (controllable variables)\n",
    "key_u=['ChillerON','SP_mCH', 'TCHeSP']\n",
    "# inputs: disturbance\n",
    "key_w=['BuildingCoolingLoads', 'ER', 'PnonHVAC', 'Psolarpv']\n",
    "# outputs of interests\n",
    "key_y=['Output[1]','Output[2]','Output[3]','Output[4]','Sensor_TCHWS.T','Sensor_TCHWR.T','Sensor_msup.m_flow','Sensor_mCHi.m_flow','Sensor_mS.m_flow','time',\n",
    "      'Sensor_Tstorage[1].y','Sensor_Tstorage[2].y','Sensor_Height[1]','Sensor_Height[2]','Sensor_Height[3]']\n",
    "\n",
    "testcase=2\n",
    "if testcase==1:\n",
    "    modelname='Merced.CoolingPlantNew.Chiller_Storage_Only_V2_MPC'\n",
    "    modelicafile='/home/adun6414/Work/CERC_UCM/Merced/CoolingPlantNew/Chiller_Storage_Only_V2_MPC.mo'\n",
    "elif testcase==2:\n",
    "    modelname='Merced.CoolingPlantNew.Chiller_Storage_CoolingTower_V2_MPC'\n",
    "    modelicafile='/home/adun6414/Work/CERC_UCM/Merced/CoolingPlantNew/Chiller_Storage_CoolingTower_V2_MPC.mo'\n",
    "\n",
    "idmodel=list() # not used for UC-Merced\n",
    "\n",
    "#% data loading and resampling\n",
    "os.chdir('/home/adun6414/Work/CERC_UCM/Fig_n_data')\n",
    "filename='DATA8to8.csv' #filename='DATA8to9.csv'\n",
    "DATARAW=read_csv(filename).set_index('Date')\n",
    "DATARAW=DATARAW.set_index(to_datetime(DATARAW.index)) # change 'str' to datetime obj\n",
    "DATARAW['time']=H_date2simtime(DATARAW.index,'2018')\n",
    "dummy=DATARAW.reindex(simtimedate,method='nearest') # resample or reindex\n",
    "DATA=dummy[['time','QBL','Twb','QCHLsum']].fillna(method='ffill')\n",
    "DATA['Pow']=dummy[['PCHsum','PCTtot']].sum(axis=1)\n",
    "del DATARAW, dummy\n",
    "os.chdir(currentdir)\n",
    "\n",
    "#% specify disturbances\n",
    "t_schedule=simtimes\n",
    "\n",
    "CHON=H_schedule(t_schedule,array([7,19]),1,1)\n",
    "mEva_flow_nominal=gpm2kgs(3000);#obj.fmuinpy.get('mEva_flow_nominal')\n",
    "SP_mCH=H_schedule(t_schedule,array([7,19]),0.*mEva_flow_nominal,0.9*mEva_flow_nominal)\n",
    "TCHeSP=H_schedule(t_schedule,array([7,19]),4,4) # C\n",
    "QBL=H_iscolumn(DATA['QBL'].to_numpy()) # kW\n",
    "ER=H_schedule(t_schedule,array([7,19]),2,1) #$/kWh\n",
    "PnonHVAC=filtfilt(3,H_schedule(t_schedule,[7,19],0*1000,0)) # kW\n",
    "Psolarpv=filtfilt(3,H_schedule(t_schedule,[11,16],20*1000,0)) # kW\n",
    "          \n",
    "u=hstack((CHON,SP_mCH,TCHeSP))\n",
    "w=hstack((QBL,ER,PnonHVAC,Psolarpv))\n",
    "\n",
    "schedule={'u': u, 'w': w, 't': H_iscolumn(t_schedule)}\n",
    "obj=H_simobj(dt=dt,start_time=start_time,final_time=final_time,modelname=modelname,modelicafile=modelicafile,\n",
    "             fmu='./Merced_CoolingPlantNew_Chiller_Storage_CoolingTower_V2_MPC.fmu',\n",
    "             idmodel=idmodel,key_u=key_u,key_w=key_w,key_y=key_y,key_x=key_x,schedule=schedule)\n",
    "   \n",
    "#(res,IN0)=obj.simulate_schedule(x0_val,schedule,wannaplot=True)\n",
    "# conventional control simulation\n",
    "from H_DP_Merced_Simple import *\n",
    "obj.Ctrlsetup(Convobj=H_Conv_Merced_Simple,MPCobj=H_DP_Merced_Simple,Npday=2)\n",
    "\n"
   ]
  },
  {
   "cell_type": "code",
   "execution_count": 3,
   "metadata": {
    "scrolled": false
   },
   "outputs": [
    {
     "name": "stderr",
     "output_type": "stream",
     "text": [
      "Could not find GLIMDA.\n"
     ]
    },
    {
     "ename": "CVodeError",
     "evalue": "'The rootfinding function failed in an unrecoverable manner. At time 18369832.686894.'",
     "output_type": "error",
     "traceback": [
      "\u001b[0;31m---------------------------------------------------------------------------\u001b[0m",
      "\u001b[0;31mCVodeError\u001b[0m                                Traceback (most recent call last)",
      "\u001b[0;32m<ipython-input-3-d90a28d7947e>\u001b[0m in \u001b[0;36m<module>\u001b[0;34m\u001b[0m\n\u001b[0;32m----> 1\u001b[0;31m \u001b[0mobj\u001b[0m\u001b[0;34m.\u001b[0m\u001b[0mevaluate_Ctrl\u001b[0m\u001b[0;34m(\u001b[0m\u001b[0mx0_val\u001b[0m\u001b[0;34m,\u001b[0m\u001b[0mcontrol\u001b[0m\u001b[0;34m=\u001b[0m\u001b[0;34m'Conv'\u001b[0m\u001b[0;34m)\u001b[0m\u001b[0;34m\u001b[0m\u001b[0;34m\u001b[0m\u001b[0m\n\u001b[0m\u001b[1;32m      2\u001b[0m \u001b[0mres\u001b[0m\u001b[0;34m=\u001b[0m\u001b[0mobj\u001b[0m\u001b[0;34m.\u001b[0m\u001b[0manalysis_performance\u001b[0m\u001b[0;34m(\u001b[0m\u001b[0mcontrol\u001b[0m\u001b[0;34m=\u001b[0m\u001b[0;34m'Conv'\u001b[0m\u001b[0;34m)\u001b[0m\u001b[0;34m\u001b[0m\u001b[0;34m\u001b[0m\u001b[0m\n\u001b[1;32m      3\u001b[0m \u001b[0mdata\u001b[0m\u001b[0;34m=\u001b[0m\u001b[0mDataFrame\u001b[0m\u001b[0;34m(\u001b[0m\u001b[0mcolumns\u001b[0m\u001b[0;34m=\u001b[0m\u001b[0mobj\u001b[0m\u001b[0;34m.\u001b[0m\u001b[0mkey_u\u001b[0m\u001b[0;34m+\u001b[0m\u001b[0mobj\u001b[0m\u001b[0;34m.\u001b[0m\u001b[0mkey_y\u001b[0m\u001b[0;34m+\u001b[0m\u001b[0mobj\u001b[0m\u001b[0;34m.\u001b[0m\u001b[0mkey_w\u001b[0m\u001b[0;34m)\u001b[0m\u001b[0;34m\u001b[0m\u001b[0;34m\u001b[0m\u001b[0m\n\u001b[1;32m      4\u001b[0m \u001b[0;32mfor\u001b[0m \u001b[0mk\u001b[0m \u001b[0;32min\u001b[0m \u001b[0mobj\u001b[0m\u001b[0;34m.\u001b[0m\u001b[0mkey_u\u001b[0m\u001b[0;34m+\u001b[0m\u001b[0mobj\u001b[0m\u001b[0;34m.\u001b[0m\u001b[0mkey_y\u001b[0m\u001b[0;34m+\u001b[0m\u001b[0mobj\u001b[0m\u001b[0;34m.\u001b[0m\u001b[0mkey_w\u001b[0m\u001b[0;34m:\u001b[0m\u001b[0;34m\u001b[0m\u001b[0;34m\u001b[0m\u001b[0m\n\u001b[1;32m      5\u001b[0m     \u001b[0mdata\u001b[0m\u001b[0;34m[\u001b[0m\u001b[0mk\u001b[0m\u001b[0;34m]\u001b[0m\u001b[0;34m=\u001b[0m\u001b[0mres\u001b[0m\u001b[0;34m[\u001b[0m\u001b[0mk\u001b[0m\u001b[0;34m]\u001b[0m\u001b[0;34m\u001b[0m\u001b[0;34m\u001b[0m\u001b[0m\n",
      "\u001b[0;32m~/Work/CERC_UCM/H_simobj.py\u001b[0m in \u001b[0;36mevaluate_Ctrl\u001b[0;34m(obj, x0_val, **varargindic)\u001b[0m\n\u001b[1;32m    192\u001b[0m                 \u001b[0mobj\u001b[0m\u001b[0;34m.\u001b[0m\u001b[0mfmuinpy\u001b[0m\u001b[0;34m.\u001b[0m\u001b[0mset\u001b[0m\u001b[0;34m(\u001b[0m\u001b[0mobj\u001b[0m\u001b[0;34m.\u001b[0m\u001b[0mkey_x\u001b[0m\u001b[0;34m,\u001b[0m\u001b[0mxk\u001b[0m\u001b[0;34m)\u001b[0m\u001b[0;34m\u001b[0m\u001b[0;34m\u001b[0m\u001b[0m\n\u001b[1;32m    193\u001b[0m \u001b[0;34m\u001b[0m\u001b[0m\n\u001b[0;32m--> 194\u001b[0;31m             \u001b[0mres\u001b[0m\u001b[0;34m=\u001b[0m\u001b[0mobj\u001b[0m\u001b[0;34m.\u001b[0m\u001b[0mfmuinpy\u001b[0m\u001b[0;34m.\u001b[0m\u001b[0msimulate\u001b[0m\u001b[0;34m(\u001b[0m\u001b[0mstart_time\u001b[0m\u001b[0;34m=\u001b[0m\u001b[0mcur_t\u001b[0m\u001b[0;34m,\u001b[0m\u001b[0mfinal_time\u001b[0m\u001b[0;34m=\u001b[0m\u001b[0mcur_t\u001b[0m\u001b[0;34m+\u001b[0m\u001b[0mobj\u001b[0m\u001b[0;34m.\u001b[0m\u001b[0mdt\u001b[0m\u001b[0;34m,\u001b[0m\u001b[0moptions\u001b[0m \u001b[0;34m=\u001b[0m \u001b[0mobj\u001b[0m\u001b[0;34m.\u001b[0m\u001b[0m_sim_opts\u001b[0m\u001b[0;34m,\u001b[0m \u001b[0minput\u001b[0m\u001b[0;34m=\u001b[0m\u001b[0mIN\u001b[0m\u001b[0;34m)\u001b[0m\u001b[0;34m\u001b[0m\u001b[0;34m\u001b[0m\u001b[0m\n\u001b[0m\u001b[1;32m    195\u001b[0m             \u001b[0mxk\u001b[0m\u001b[0;34m=\u001b[0m\u001b[0mmat\u001b[0m\u001b[0;34m(\u001b[0m\u001b[0mres\u001b[0m\u001b[0;34m[\u001b[0m\u001b[0;34m'Sensor_Height[3]'\u001b[0m\u001b[0;34m]\u001b[0m\u001b[0;34m[\u001b[0m\u001b[0;34m-\u001b[0m\u001b[0;36m1\u001b[0m\u001b[0;34m]\u001b[0m\u001b[0;34m)\u001b[0m\u001b[0;34m\u001b[0m\u001b[0;34m\u001b[0m\u001b[0m\n\u001b[1;32m    196\u001b[0m \u001b[0;34m\u001b[0m\u001b[0m\n",
      "\u001b[0;32m~/Downloads/PyFMI/src/pyfmi/fmi.pyx\u001b[0m in \u001b[0;36mpyfmi.fmi.FMUModelME2.simulate\u001b[0;34m()\u001b[0m\n",
      "\u001b[0;32m~/Downloads/PyFMI/src/pyfmi/fmi.pyx\u001b[0m in \u001b[0;36mpyfmi.fmi.ModelBase._exec_simulate_algorithm\u001b[0;34m()\u001b[0m\n",
      "\u001b[0;32m~/Downloads/PyFMI/src/pyfmi/fmi.pyx\u001b[0m in \u001b[0;36mpyfmi.fmi.ModelBase._exec_simulate_algorithm\u001b[0;34m()\u001b[0m\n",
      "\u001b[0;32m~/Downloads/anaconda3/lib/python3.7/site-packages/pyfmi/fmi_algorithm_drivers.py\u001b[0m in \u001b[0;36msolve\u001b[0;34m(self)\u001b[0m\n\u001b[1;32m    547\u001b[0m \u001b[0;34m\u001b[0m\u001b[0m\n\u001b[1;32m    548\u001b[0m         \u001b[0;32mtry\u001b[0m\u001b[0;34m:\u001b[0m\u001b[0;34m\u001b[0m\u001b[0;34m\u001b[0m\u001b[0m\n\u001b[0;32m--> 549\u001b[0;31m             \u001b[0mself\u001b[0m\u001b[0;34m.\u001b[0m\u001b[0msimulator\u001b[0m\u001b[0;34m.\u001b[0m\u001b[0msimulate\u001b[0m\u001b[0;34m(\u001b[0m\u001b[0mself\u001b[0m\u001b[0;34m.\u001b[0m\u001b[0mfinal_time\u001b[0m\u001b[0;34m,\u001b[0m \u001b[0mself\u001b[0m\u001b[0;34m.\u001b[0m\u001b[0mncp\u001b[0m\u001b[0;34m)\u001b[0m\u001b[0;34m\u001b[0m\u001b[0;34m\u001b[0m\u001b[0m\n\u001b[0m\u001b[1;32m    550\u001b[0m         \u001b[0;32mexcept\u001b[0m\u001b[0;34m:\u001b[0m\u001b[0;34m\u001b[0m\u001b[0;34m\u001b[0m\u001b[0m\n\u001b[1;32m    551\u001b[0m             \u001b[0mself\u001b[0m\u001b[0;34m.\u001b[0m\u001b[0mresult_handler\u001b[0m\u001b[0;34m.\u001b[0m\u001b[0msimulation_end\u001b[0m\u001b[0;34m(\u001b[0m\u001b[0;34m)\u001b[0m \u001b[0;31m#Close the potentially open result files\u001b[0m\u001b[0;34m\u001b[0m\u001b[0;34m\u001b[0m\u001b[0m\n",
      "\u001b[0;32massimulo/ode.pyx\u001b[0m in \u001b[0;36massimulo.ode.ODE.simulate\u001b[0;34m()\u001b[0m\n",
      "\u001b[0;32massimulo/ode.pyx\u001b[0m in \u001b[0;36massimulo.ode.ODE.simulate\u001b[0;34m()\u001b[0m\n",
      "\u001b[0;32massimulo/explicit_ode.pyx\u001b[0m in \u001b[0;36massimulo.explicit_ode.Explicit_ODE._simulate\u001b[0;34m()\u001b[0m\n",
      "\u001b[0;32massimulo/explicit_ode.pyx\u001b[0m in \u001b[0;36massimulo.explicit_ode.Explicit_ODE._simulate\u001b[0;34m()\u001b[0m\n",
      "\u001b[0;32massimulo/solvers/sundials.pyx\u001b[0m in \u001b[0;36massimulo.solvers.sundials.CVode.integrate\u001b[0;34m()\u001b[0m\n",
      "\u001b[0;32massimulo/solvers/sundials.pyx\u001b[0m in \u001b[0;36massimulo.solvers.sundials.CVode.integrate\u001b[0;34m()\u001b[0m\n",
      "\u001b[0;31mCVodeError\u001b[0m: 'The rootfinding function failed in an unrecoverable manner. At time 18369832.686894.'"
     ]
    }
   ],
   "source": [
    "obj.evaluate_Ctrl(x0_val,control='Conv')\n",
    "res=obj.analysis_performance(control='Conv')\n",
    "data=DataFrame(columns=obj.key_u+obj.key_y+obj.key_w)  \n",
    "for k in obj.key_u+obj.key_y+obj.key_w:\n",
    "    data[k]=res[k]\n",
    "data.index=data.time\n",
    "figure(100)\n",
    "plot(to_datetime(H_simtime2date(data['time'],'2018')),kW2ton(data['Output[3]']))     \n",
    "plot(to_datetime(H_simtime2date(data['time'],'2018')),kW2ton(data['Output[4]']),'r')\n",
    "legend(['QCHL','QDIS'])\n",
    "ylabel('ton')\n",
    "grid(True)\n",
    "\n",
    "data.plot(x='time',y=[k for k in obj.key_y if '.m_flow' in k])\n",
    "grid(True)\n",
    "\n",
    "figure(102)\n",
    "plot(to_datetime(H_simtime2date(data['time'],'2018')),data['Sensor_msup.m_flow'].apply(kgs2gpm))\n",
    "ylabel('return flow rate [gpm]')\n",
    "grid(True)\n",
    "\n",
    "data.plot(x='time',y=[k for k in obj.key_y if 'Height[3]' in k])    \n",
    "title('SOC')\n",
    "grid(True)\n"
   ]
  },
  {
   "cell_type": "code",
   "execution_count": null,
   "metadata": {
    "scrolled": true
   },
   "outputs": [],
   "source": [
    "#%% MPC evaulation inputs: starts, final time, IC\n",
    "obj.does_local_follow_mpc(x0_val)\n",
    "    "
   ]
  },
  {
   "cell_type": "code",
   "execution_count": null,
   "metadata": {
    "scrolled": true
   },
   "outputs": [],
   "source": [
    "#%% MPC evaulation inputs: starts, final time, IC\n",
    "obj.evaluate_Ctrl(x0_val,control='MPC')"
   ]
  },
  {
   "cell_type": "code",
   "execution_count": null,
   "metadata": {},
   "outputs": [],
   "source": [
    "obj.analysis_performance(control='MPC')\n",
    "obj.fmuinpy.print_log()"
   ]
  }
 ],
 "metadata": {
  "kernelspec": {
   "display_name": "Python 3",
   "language": "python",
   "name": "python3"
  },
  "language_info": {
   "codemirror_mode": {
    "name": "ipython",
    "version": 3
   },
   "file_extension": ".py",
   "mimetype": "text/x-python",
   "name": "python",
   "nbconvert_exporter": "python",
   "pygments_lexer": "ipython3",
   "version": "3.7.3"
  }
 },
 "nbformat": 4,
 "nbformat_minor": 2
}
